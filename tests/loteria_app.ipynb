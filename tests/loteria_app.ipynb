{
 "metadata": {
  "language_info": {
   "codemirror_mode": {
    "name": "ipython",
    "version": 3
   },
   "file_extension": ".py",
   "mimetype": "text/x-python",
   "name": "python",
   "nbconvert_exporter": "python",
   "pygments_lexer": "ipython3",
   "version": "3.8.7"
  },
  "orig_nbformat": 4,
  "kernelspec": {
   "name": "python3",
   "display_name": "Python 3.8.7 64-bit ('loteria_env': pyenv)"
  },
  "interpreter": {
   "hash": "1aa5f88edd4f24e9a79025e609d8aa184b01cf5b73398cfa8584c1c8ddf81967"
  }
 },
 "nbformat": 4,
 "nbformat_minor": 2,
 "cells": [
  {
   "source": [
    "# Test Dev Notebook"
   ],
   "cell_type": "markdown",
   "metadata": {}
  },
  {
   "cell_type": "code",
   "execution_count": 2,
   "metadata": {},
   "outputs": [],
   "source": [
    "import secrets\n",
    "import string"
   ]
  },
  {
   "cell_type": "code",
   "execution_count": 25,
   "metadata": {},
   "outputs": [
    {
     "output_type": "stream",
     "name": "stdout",
     "text": [
      "4758844\n6444113\n11202957\n"
     ]
    }
   ],
   "source": [
    "# code to generate unique code for game code and player id's\n",
    "\n",
    "def generate_unique_code():\n",
    "    # generates a numerical number then cast to int\n",
    "    code_options = string.digits\n",
    "    generated_game_code = ''.join(secrets.choice(code_options) for i in range(7))\n",
    "    return int(generated_game_code)\n",
    "code_1 = generate_unique_code()\n",
    "code_2 = generate_unique_code()\n",
    "print(code_1)\n",
    "print(code_2)\n",
    "print(code_1 + code_2)"
   ]
  },
  {
   "cell_type": "code",
   "execution_count": 32,
   "metadata": {},
   "outputs": [],
   "source": [
    "def generate_player_id():\n",
    "    # generates a mix of uppercase letters and digits for player ids\n",
    "    code_options = string.ascii_uppercase + string.digits\n",
    "    generated_player_id = ''.join(secrets.choice(code_options) for i in range(5))\n",
    "    return generated_player_id"
   ]
  },
  {
   "cell_type": "code",
   "execution_count": 33,
   "metadata": {},
   "outputs": [
    {
     "output_type": "execute_result",
     "data": {
      "text/plain": [
       "'DFZA9'"
      ]
     },
     "metadata": {},
     "execution_count": 33
    }
   ],
   "source": [
    "generate_player_id()"
   ]
  },
  {
   "cell_type": "code",
   "execution_count": null,
   "metadata": {},
   "outputs": [],
   "source": []
  }
 ]
}